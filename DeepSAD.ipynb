{
 "cells": [
  {
   "cell_type": "code",
   "execution_count": 1,
   "metadata": {},
   "outputs": [],
   "source": [
    "# Packages \n",
    "import tensorflow as tf\n",
    "import keras\n",
    "import numpy as np\n",
    "import pandas as pd\n",
    "from sklearn.metrics import f1_score"
   ]
  },
  {
   "cell_type": "markdown",
   "metadata": {},
   "source": [
    "## Deep SAD(Deep semi-supervised anomaly detection)\n",
    "본 노트북의 코드는 논문 *\"Deep Semi-Supervised Anomlay Detection(Lukas Ruff et al. ICLR 2020)\"* 의 이론 및 알고리즘을 바탕으로 작성되었으며, pytorch로 작성된 해당 논문의 코드(https://github.com/lukasruff/Deep-SAD-PyTorch/blob/master/src/DeepSAD.py)를 참고하여 tensorflow로 작성하였다.\n",
    "\n",
    "### DeepSVDD\n",
    "DeepSAD 알고리즘은 딥러닝을 이용한 anomaly detection 알고리즘인 Deep SVDD(Ruff et al., 2018)을 Semi-supervised learning, 즉 본 문제와 같이 labeled sample이 추가로 주어진 상황으로 확장시킨 알고리즘이다. 주어진 $n$개의 unlabeled training samples $x_1,\\ldots,x_n\\in\\mathcal X$에서 Deep SVDD의 목적함수는 다음과 같다.\n",
    "$$\n",
    "\\min_W{1\\over n}\\sum_{i=1}^n\\Vert\\phi(x_i;W)-c\\Vert^2 + {\\lambda\\over 2}\\sum_{l=1}^L\\Vert W^l\\Vert_F^2,\\;\\;\\lambda>0\n",
    "$$\n",
    "즉, hypersphere의 중심점인 상수벡터 c를 중심으로 mean squared distance를 최소화하는 알고리즘이므로, 이는 곧 데이터들의 공통된 특성을 추출하는 과정으로 볼 수 있다. 최적화 과정은 SGD를 이용한 backpropagation으로 이루어지며 trained model에 대한 anomaly score는\n",
    "$$\n",
    "s(x) = \\Vert \\phi(x;W)-c\\Vert\n",
    "$$\n",
    "로 주어진다."
   ]
  },
  {
   "cell_type": "code",
   "execution_count": null,
   "metadata": {},
   "outputs": [],
   "source": [
    "# Deep SVDD Algorithm(Unsupervised)\n"
   ]
  }
 ],
 "metadata": {
  "kernelspec": {
   "display_name": "Python 3.9.7 ('atf')",
   "language": "python",
   "name": "python3"
  },
  "language_info": {
   "codemirror_mode": {
    "name": "ipython",
    "version": 3
   },
   "file_extension": ".py",
   "mimetype": "text/x-python",
   "name": "python",
   "nbconvert_exporter": "python",
   "pygments_lexer": "ipython3",
   "version": "3.9.7"
  },
  "orig_nbformat": 4,
  "vscode": {
   "interpreter": {
    "hash": "057b2dfdcbeb6152fe7a6de916733e2aadd6aefdf07a18e5e9a0b06119769157"
   }
  }
 },
 "nbformat": 4,
 "nbformat_minor": 2
}
